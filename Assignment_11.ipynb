{
 "cells": [
  {
   "cell_type": "code",
   "execution_count": 2,
   "metadata": {},
   "outputs": [
    {
     "data": {
      "text/plain": [
       "['Hariprasad', 'Rajendran']"
      ]
     },
     "execution_count": 2,
     "metadata": {},
     "output_type": "execute_result"
    }
   ],
   "source": [
    "## Question 1 \n",
    "\n",
    "def func1(*args):\n",
    "\n",
    "    \"\"\"\n",
    "        Python program to find the string having length more than 7\n",
    "    \"\"\"  \n",
    "    l=[]\n",
    "    for i in args:\n",
    "        if len(i)>7:\n",
    "            l.append(i)\n",
    "    return l\n",
    "\n",
    "func1('Aarthi','Hariprasad','Sapna','Rajendran')"
   ]
  },
  {
   "cell_type": "code",
   "execution_count": 21,
   "metadata": {},
   "outputs": [
    {
     "name": "stdout",
     "output_type": "stream",
     "text": [
      "Input any string: computer\n",
      "length of entered string is:  8\n",
      "Enter the value of i less than the string length: 5\n",
      "String after removing the  5  character is  compuer\n"
     ]
    }
   ],
   "source": [
    "## Question 2 - Program for removing i-th character from a string\n",
    "\n",
    "s = input(\"Input any string: \")\n",
    "length = len(s)\n",
    "print(\"length of entered string is: \",length)\n",
    "i = int(input(\"Enter the value of i less than the string length: \"))\n",
    "\n",
    "a = s[:i]\n",
    "b= s[i+1:]\n",
    "s=a+b\n",
    "print(\"String after removing the \",i,\" character is \",s)"
   ]
  },
  {
   "cell_type": "code",
   "execution_count": 44,
   "metadata": {},
   "outputs": [
    {
     "name": "stdout",
     "output_type": "stream",
     "text": [
      "Enter your first name: Aarthi\n",
      "Enter your last name: Ashokan\n",
      "AarthiAshokan\n"
     ]
    },
    {
     "data": {
      "text/plain": [
       "['It', 'is', 'very', 'hot', 'during', 'summers', 'in', 'India']"
      ]
     },
     "execution_count": 44,
     "metadata": {},
     "output_type": "execute_result"
    }
   ],
   "source": [
    "## Question 3 - Splitting and joining a string\n",
    "\n",
    "a = input(\"Enter your first name: \")\n",
    "b= input(\"Enter your last name: \")\n",
    "\n",
    "fullName1 = a + b\n",
    "\n",
    "print(fullName1)\n",
    "\n",
    "s = \" It is very hot during summers in India\"\n",
    "s.split()\n"
   ]
  },
  {
   "cell_type": "code",
   "execution_count": 28,
   "metadata": {},
   "outputs": [
    {
     "name": "stdout",
     "output_type": "stream",
     "text": [
      "Enter the string value: fhgh110\n",
      "String is not a binary string\n"
     ]
    }
   ],
   "source": [
    "## Question4 - string binary or not\n",
    "\n",
    "count=0\n",
    "s=input(\"Enter the string value: \")\n",
    "\n",
    "for i in s:\n",
    "    if i == \"1\" or i==\"0\":\n",
    "        pass\n",
    "    else:\n",
    "        count = count+1\n",
    "        \n",
    "if count>0:\n",
    "    print(\"String is not a binary string\")\n",
    "else: print(\"String is a binary string\")"
   ]
  },
  {
   "cell_type": "code",
   "execution_count": 33,
   "metadata": {},
   "outputs": [
    {
     "name": "stdout",
     "output_type": "stream",
     "text": [
      "Enter first string: Charles\n",
      "Enter the second string: Babbage\n",
      "The uncommon letters from two strings are: \n",
      "C\n",
      "h\n",
      "r\n",
      "l\n",
      "s\n",
      "B\n",
      "b\n",
      "b\n",
      "g\n"
     ]
    }
   ],
   "source": [
    "## Question 5 - Uncommon words from two strings\n",
    "\n",
    "x = input(\"Enter first string: \")\n",
    "y = input(\"Enter the second string: \")\n",
    "x.lower()\n",
    "y.lower()\n",
    "print(\"The uncommon letters from two strings are: \")\n",
    "for i in x:\n",
    "    b= y.find(i)\n",
    "    if b==-1:\n",
    "        print(i)\n",
    "for i in y:\n",
    "    b= x.find(i)\n",
    "    if b==-1:\n",
    "        print(i)"
   ]
  },
  {
   "cell_type": "code",
   "execution_count": 40,
   "metadata": {},
   "outputs": [
    {
     "name": "stdout",
     "output_type": "stream",
     "text": [
      "o\n",
      "p\n"
     ]
    }
   ],
   "source": [
    "## Question 6 - finding duplicate charaters\n",
    "\n",
    "s= \"Hippopotamus\"\n",
    "p=set(s)\n",
    "for i in p:\n",
    "    b= s.count(i)\n",
    "    if b>1:\n",
    "        print(i)"
   ]
  },
  {
   "cell_type": "code",
   "execution_count": 43,
   "metadata": {},
   "outputs": [
    {
     "name": "stdout",
     "output_type": "stream",
     "text": [
      "Enter the string: Aa@rt$h\n",
      "Special characters present\n"
     ]
    }
   ],
   "source": [
    "## Question 7 - if any special characters\n",
    "\n",
    "special_characters = \"!@#$%^&*()-+?_=,<>/\"\n",
    "count=0\n",
    "s= input(\"Enter the string: \")\n",
    "\n",
    "for i in s:\n",
    "    if i in special_characters:\n",
    "        count=count+1\n",
    "    else:\n",
    "        pass\n",
    "\n",
    "if count>0:\n",
    "    print(\"Special characters present\")\n",
    "else:\n",
    "    print(\"Not present\")"
   ]
  },
  {
   "cell_type": "code",
   "execution_count": null,
   "metadata": {},
   "outputs": [],
   "source": []
  },
  {
   "cell_type": "code",
   "execution_count": null,
   "metadata": {},
   "outputs": [],
   "source": []
  }
 ],
 "metadata": {
  "kernelspec": {
   "display_name": "Python 3",
   "language": "python",
   "name": "python3"
  },
  "language_info": {
   "codemirror_mode": {
    "name": "ipython",
    "version": 3
   },
   "file_extension": ".py",
   "mimetype": "text/x-python",
   "name": "python",
   "nbconvert_exporter": "python",
   "pygments_lexer": "ipython3",
   "version": "3.8.5"
  }
 },
 "nbformat": 4,
 "nbformat_minor": 4
}
