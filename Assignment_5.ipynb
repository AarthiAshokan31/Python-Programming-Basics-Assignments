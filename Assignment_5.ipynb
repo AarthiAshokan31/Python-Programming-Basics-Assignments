{
 "cells": [
  {
   "cell_type": "code",
   "execution_count": 14,
   "metadata": {},
   "outputs": [
    {
     "name": "stdout",
     "output_type": "stream",
     "text": [
      "LCM of two numbers 9 and 42 is: 126\n"
     ]
    }
   ],
   "source": [
    "def lcm(a,b):\n",
    "    if a>b :\n",
    "        z=a\n",
    "    else:\n",
    "        z=b\n",
    "    \n",
    "    while(True):\n",
    "        if((z%a == 0) and (z%b == 0)):\n",
    "            lcm=z\n",
    "            break\n",
    "        z= z+1\n",
    "    return lcm\n",
    "\n",
    "print(\"LCM of two numbers 9 and 42 is: {}\".format(lcm(9,42)))"
   ]
  },
  {
   "cell_type": "code",
   "execution_count": 15,
   "metadata": {},
   "outputs": [
    {
     "name": "stdout",
     "output_type": "stream",
     "text": [
      "Enter first number5\n",
      "Enter second number98\n",
      "HCF of two numbers is: 1\n"
     ]
    }
   ],
   "source": [
    "## HCF ###\n",
    "\n",
    "x=int(input(\"Enter first number\"))\n",
    "y = int(input(\"Enter second number\"))\n",
    "hcf=0\n",
    "if x<y:\n",
    "    small = x\n",
    "else:\n",
    "    small=y\n",
    "\n",
    "for i in range(1,small+1):\n",
    "    if (x%i==0) and (y%i==0):\n",
    "        hcf=i\n",
    "\n",
    "\n",
    "print(\"HCF of two numbers is: {}\".format(hcf))"
   ]
  },
  {
   "cell_type": "code",
   "execution_count": 16,
   "metadata": {},
   "outputs": [
    {
     "name": "stdout",
     "output_type": "stream",
     "text": [
      "Enter the decimal number65\n",
      "Binary equivalent is: 0b1000001\n",
      "Octal equivalent is: 0o101\n",
      "Hexadecimal equivalent is: 0x41\n"
     ]
    }
   ],
   "source": [
    "## Decimal to binary, octal and hexadecimal\n",
    "\n",
    "num = int(input(\"Enter the decimal number\"))\n",
    "\n",
    "#binary\n",
    "print(\"Binary equivalent is: {}\".format(bin(num)))\n",
    "print(\"Octal equivalent is: {}\".format(oct(num)))\n",
    "print(\"Hexadecimal equivalent is: {}\".format(hex(num)))"
   ]
  },
  {
   "cell_type": "code",
   "execution_count": 12,
   "metadata": {},
   "outputs": [
    {
     "name": "stdout",
     "output_type": "stream",
     "text": [
      "Enter a character: a\n",
      "ASCII value of char is  97\n"
     ]
    }
   ],
   "source": [
    "## ASCII value of a character\n",
    "\n",
    "ch = input(\"Enter a character: \")\n",
    "print(\"ASCII value of char is \",ord(ch))"
   ]
  },
  {
   "cell_type": "code",
   "execution_count": 13,
   "metadata": {},
   "outputs": [
    {
     "name": "stdout",
     "output_type": "stream",
     "text": [
      "Enter the first number25\n",
      "Enter the second number5\n",
      "Addition operation:  30\n",
      "Subtraction operation:  20\n",
      "Division operation:  5.0\n",
      "Multiplication operation:  125\n"
     ]
    }
   ],
   "source": [
    "## simple calulator\n",
    "\n",
    "def add(x,y):\n",
    "    return x+y\n",
    "\n",
    "def subtract(x,y):\n",
    "    return x-y\n",
    "\n",
    "def multiply(x,y):\n",
    "    return x*y\n",
    "\n",
    "def divide(x,y):\n",
    "    return x/y\n",
    "\n",
    "num1 = int(input(\"Enter the first number: \"))\n",
    "num2 = int(input(\"Enter the second number: \"))\n",
    "\n",
    "print(\"Addition operation: \", add(num1,num2))\n",
    "print(\"Subtraction operation: \", subtract(num1,num2))\n",
    "print(\"Division operation: \", divide(num1,num2))\n",
    "print(\"Multiplication operation: \", multiply(num1,num2))\n"
   ]
  },
  {
   "cell_type": "code",
   "execution_count": null,
   "metadata": {},
   "outputs": [],
   "source": []
  }
 ],
 "metadata": {
  "kernelspec": {
   "display_name": "Python 3",
   "language": "python",
   "name": "python3"
  },
  "language_info": {
   "codemirror_mode": {
    "name": "ipython",
    "version": 3
   },
   "file_extension": ".py",
   "mimetype": "text/x-python",
   "name": "python",
   "nbconvert_exporter": "python",
   "pygments_lexer": "ipython3",
   "version": "3.8.5"
  }
 },
 "nbformat": 4,
 "nbformat_minor": 4
}
