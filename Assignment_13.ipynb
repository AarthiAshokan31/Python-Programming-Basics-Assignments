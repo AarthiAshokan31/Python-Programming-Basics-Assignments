{
 "cells": [
  {
   "cell_type": "code",
   "execution_count": 7,
   "metadata": {},
   "outputs": [
    {
     "name": "stdout",
     "output_type": "stream",
     "text": [
      "input to your program in a comma-separated sequence: 100,150,180\n",
      "<class 'list'>\n"
     ]
    },
    {
     "data": {
      "text/plain": [
       "[18, 22, 24]"
      ]
     },
     "execution_count": 7,
     "metadata": {},
     "output_type": "execute_result"
    }
   ],
   "source": [
    "\"\"\"\n",
    "Question 1: Write a program that calculates and prints the value according to the given formula:\n",
    "Q = Square root of [(2 * C * D)/H]\n",
    "Following are the fixed values of C and H:\n",
    "C is 50. H is 30.\n",
    "D is the variable whose values should be input to your program in a comma-separated\n",
    "sequence.\n",
    "\"\"\"\n",
    "\n",
    "from math import sqrt\n",
    "\n",
    "C, H = 50, 30\n",
    "\n",
    "D = input(\"input to your program in a comma-separated sequence: \")\n",
    "D=D.split(',')\n",
    "print(type(D))\n",
    "\n",
    "def func1(D):\n",
    "    l1=[]\n",
    "    for i in D:\n",
    "        s = round(sqrt((2*C*int(i))/H))\n",
    "        l1.append(s)\n",
    "    return l1\n",
    "\n",
    "func1(D)"
   ]
  },
  {
   "cell_type": "code",
   "execution_count": null,
   "metadata": {},
   "outputs": [],
   "source": [
    "\"\"\"\n",
    "Question 2: Write a program which takes 2 digits, X,Y as input and generates a 2-dimensional array. The\n",
    "element value in the i-th row and j-th column of the array should be i*j.\n",
    "Note: i=0,1.., X-1; j=0,1,¡Y-1.\n",
    "\"\"\"\n"
   ]
  },
  {
   "cell_type": "code",
   "execution_count": 9,
   "metadata": {},
   "outputs": [
    {
     "name": "stdout",
     "output_type": "stream",
     "text": [
      "Enter comma separated sequence of words: f,l,s,a\n",
      "['a', 'f', 'l', 's']\n"
     ]
    }
   ],
   "source": [
    "\"\"\"\n",
    "Write a program that accepts a comma separated sequence of words as input and prints the\n",
    "words in a comma-separated sequence after sorting them alphabetically.\n",
    "\"\"\"\n",
    "\n",
    "x = input(\"Enter comma separated sequence of words: \")\n",
    "x=x.split(',')\n",
    "x.sort()\n",
    "print(x)"
   ]
  },
  {
   "cell_type": "code",
   "execution_count": 12,
   "metadata": {},
   "outputs": [
    {
     "name": "stdout",
     "output_type": "stream",
     "text": [
      "Enter a sequence of whitespace separated words: hello world and practice makes perfect and hello world again\n",
      "['again', 'and', 'hello', 'makes', 'perfect', 'practice', 'world']\n"
     ]
    }
   ],
   "source": [
    "\"\"\"\"\n",
    "Write a program that accepts a sequence of whitespace separated words as input and prints\n",
    "the words after removing all duplicate words and sorting them alphanumerically.\n",
    "\"\"\"\n",
    "\n",
    "value = input(\"Enter a sequence of whitespace separated words: \")\n",
    "value = value.split(' ')\n",
    "value = sorted(set(value))\n",
    "#value.sort()\n",
    "print(value)"
   ]
  },
  {
   "cell_type": "code",
   "execution_count": 13,
   "metadata": {},
   "outputs": [
    {
     "name": "stdout",
     "output_type": "stream",
     "text": [
      "Enter a sentence: hello best world 4984\n",
      "Number of letters are:  14\n",
      "Number of digits are:  4\n"
     ]
    }
   ],
   "source": [
    "\"\"\"Question 5: Write a program that accepts a sentence and calculate the number of letters and digits.\"\"\"\n",
    "\n",
    "y = input(\"Enter a sentence: \")\n",
    "\n",
    "countL=0\n",
    "countN=0\n",
    "\n",
    "for i in y:\n",
    "    if i.isalpha():\n",
    "        countL += 1\n",
    "        \n",
    "    elif i.isdigit():\n",
    "        countN += 1\n",
    "\n",
    "print(\"Number of letters are: \", countL)\n",
    "print(\"Number of digits are: \", countN)"
   ]
  },
  {
   "cell_type": "code",
   "execution_count": 14,
   "metadata": {},
   "outputs": [
    {
     "name": "stdout",
     "output_type": "stream",
     "text": [
      "Enter a sequence of comma separated passwords: ABd1234@1,a F1#,2w3E*,2We3345\n"
     ]
    },
    {
     "data": {
      "text/plain": [
       "['ABd1234@1']"
      ]
     },
     "execution_count": 14,
     "metadata": {},
     "output_type": "execute_result"
    }
   ],
   "source": [
    "\"\"\"Question 6: A website requires the users to input username and password to register. Write a program to\n",
    "check the validity of password input by users.\"\"\"\n",
    "\n",
    "import re\n",
    "\n",
    "passwords = input(\"Enter a sequence of comma separated passwords: \")\n",
    "passwords = passwords.split(',')\n",
    "\n",
    "def check_validity(passwords):\n",
    "    l6=[]\n",
    "    for s in passwords:\n",
    "        if len(s)>=6 and len(s)<=12:\n",
    "            if re.search(\"[a-z]\", s):\n",
    "                if re.search(\"[A-Z]\", s):\n",
    "                    if re.search(\"[0-9]\", s):\n",
    "                        if re.search(\"[$#@]\", s):\n",
    "                            l6.append(s)\n",
    "    return l6\n",
    "\n",
    "check_validity(passwords)"
   ]
  },
  {
   "cell_type": "code",
   "execution_count": null,
   "metadata": {},
   "outputs": [],
   "source": []
  }
 ],
 "metadata": {
  "kernelspec": {
   "display_name": "Python 3",
   "language": "python",
   "name": "python3"
  },
  "language_info": {
   "codemirror_mode": {
    "name": "ipython",
    "version": 3
   },
   "file_extension": ".py",
   "mimetype": "text/x-python",
   "name": "python",
   "nbconvert_exporter": "python",
   "pygments_lexer": "ipython3",
   "version": "3.8.5"
  }
 },
 "nbformat": 4,
 "nbformat_minor": 4
}
