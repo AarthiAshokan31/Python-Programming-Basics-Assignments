{
 "cells": [
  {
   "cell_type": "code",
   "execution_count": 14,
   "metadata": {},
   "outputs": [
    {
     "name": "stdout",
     "output_type": "stream",
     "text": [
      "Enter a number: 135\n",
      "125\n",
      "134\n",
      "135\n",
      "Disarium Number\n"
     ]
    }
   ],
   "source": [
    "## Question 1: Python program to check if the given number is a Disarium Number?\n",
    "\n",
    "x = input(\"Enter a number: \")\n",
    "\n",
    "l = len(x)  ## number of digitd of the number\n",
    "\n",
    "x=int(x)\n",
    "temp1 = x\n",
    "add= 0\n",
    "\n",
    "while l>=1:\n",
    "    temp = x%10\n",
    "    s = (temp)**l\n",
    "    add += s\n",
    "    #print(add)\n",
    "    x=x//10\n",
    "    l -= 1\n",
    "\n",
    "if add == temp1:\n",
    "    print(\"Disarium Number\")\n",
    "else:\n",
    "    print(\"Not a disarium number\")\n"
   ]
  },
  {
   "cell_type": "code",
   "execution_count": 15,
   "metadata": {},
   "outputs": [
    {
     "name": "stdout",
     "output_type": "stream",
     "text": [
      "Disarium numbers between 1-100:  [1, 2, 3, 4, 5, 6, 7, 8, 9, 89]\n"
     ]
    }
   ],
   "source": [
    "## Question2: Python program to print all disarium numbers between 1 to 100?\n",
    "\n",
    "l1=[]\n",
    "for x in range(1,101):\n",
    "    l = len(str(x))\n",
    "    temp1 = x\n",
    "    add=0\n",
    "    while l>=1:\n",
    "        temp = x%10\n",
    "        s = (temp)**l\n",
    "        add += s\n",
    "        #print(add)\n",
    "        x=x//10\n",
    "        l -= 1\n",
    "\n",
    "    if add == temp1:\n",
    "        l1.append(temp1)\n",
    "\n",
    "print(\"Disarium numbers between 1-100: \",l1)"
   ]
  },
  {
   "cell_type": "code",
   "execution_count": null,
   "metadata": {},
   "outputs": [],
   "source": [
    "## Question 3: program to find if number is happy number\n",
    "\n",
    "x = int(input(\"Enter a number: \"))\n",
    "temp=x\n",
    "add=0\n",
    "\n",
    "while x//10 >0:\n",
    "    k = (x%10)**2\n",
    "    add = add + k\n",
    "    x = x//10\n",
    "    \n",
    "    \n"
   ]
  },
  {
   "cell_type": "code",
   "execution_count": null,
   "metadata": {},
   "outputs": [],
   "source": []
  },
  {
   "cell_type": "code",
   "execution_count": 16,
   "metadata": {},
   "outputs": [
    {
     "data": {
      "text/plain": [
       "0"
      ]
     },
     "execution_count": 16,
     "metadata": {},
     "output_type": "execute_result"
    }
   ],
   "source": [
    "7//10"
   ]
  },
  {
   "cell_type": "code",
   "execution_count": null,
   "metadata": {},
   "outputs": [],
   "source": []
  }
 ],
 "metadata": {
  "kernelspec": {
   "display_name": "Python 3",
   "language": "python",
   "name": "python3"
  },
  "language_info": {
   "codemirror_mode": {
    "name": "ipython",
    "version": 3
   },
   "file_extension": ".py",
   "mimetype": "text/x-python",
   "name": "python",
   "nbconvert_exporter": "python",
   "pygments_lexer": "ipython3",
   "version": "3.8.5"
  }
 },
 "nbformat": 4,
 "nbformat_minor": 4
}
