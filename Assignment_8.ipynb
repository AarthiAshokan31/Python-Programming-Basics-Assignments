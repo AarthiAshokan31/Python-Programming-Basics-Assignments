{
 "cells": [
  {
   "cell_type": "code",
   "execution_count": 5,
   "metadata": {},
   "outputs": [
    {
     "name": "stdout",
     "output_type": "stream",
     "text": [
      "Addition of two given matrices is:  [[12, 14, 16], [19, 21, 23], [25, 27, 29]]\n"
     ]
    }
   ],
   "source": [
    "## Addition of two matrices\n",
    "\n",
    "a = [[1,2,3], [5,6,7], [8,9,10]]\n",
    "b = [[11,12,13], [14,15,16], [17,18,19]]\n",
    "c=[[0,0,0],[0,0,0],[0,0,0]]\n",
    "\n",
    "for i in range(len(a)):\n",
    "    for j in range(len(b)):\n",
    "        c[i][j] = a[i][j] + b[i][j]\n",
    "\n",
    "print(\"Addition of two given matrices is: \",c)"
   ]
  },
  {
   "cell_type": "code",
   "execution_count": 9,
   "metadata": {},
   "outputs": [
    {
     "name": "stdout",
     "output_type": "stream",
     "text": [
      "[[6 6 6]\n",
      " [6 6 6]]\n"
     ]
    }
   ],
   "source": [
    "## Question 2: Multiplication of two matrices\n",
    "\n",
    "import numpy as np\n",
    "\n",
    "x=[[1,1], [1,1]]\n",
    "y = [[3,3,3], [4,4,4]]\n",
    "\n",
    "z = np.dot(x,y)\n",
    "print(z)"
   ]
  },
  {
   "cell_type": "code",
   "execution_count": 12,
   "metadata": {},
   "outputs": [
    {
     "name": "stdout",
     "output_type": "stream",
     "text": [
      "Transpose of given array is:  [[1 4]\n",
      " [2 5]\n",
      " [3 6]]\n"
     ]
    }
   ],
   "source": [
    "## Question 3: Transpose of a matrix\n",
    "\n",
    "import numpy as np\n",
    "\n",
    "x= [[1,2,3],[4,5,6]]\n",
    "x= np.array(x)\n",
    "\n",
    "print(\"Transpose of given array is: \", x.T)"
   ]
  },
  {
   "cell_type": "code",
   "execution_count": 29,
   "metadata": {},
   "outputs": [
    {
     "name": "stdout",
     "output_type": "stream",
     "text": [
      "Enter a sentence: cat bat rat mad\n",
      "Sorted words:  ['bat', 'cat', 'mad', 'rat']\n"
     ]
    }
   ],
   "source": [
    "## Question 4: Program to sort words in Alphabetic order\n",
    "\n",
    "s = input(\"Enter a sentence: \")\n",
    "\n",
    "s = s.split(\" \")\n",
    "s.sort()\n",
    "print(\"Sorted words: \",s)"
   ]
  },
  {
   "cell_type": "code",
   "execution_count": 6,
   "metadata": {},
   "outputs": [
    {
     "name": "stdout",
     "output_type": "stream",
     "text": [
      "Enter a string: Hello World!!\n",
      "The entered string with punction is :  Hello World\n"
     ]
    }
   ],
   "source": [
    "## Question 5: Program to remove punctuations from a string\n",
    "\n",
    "punc = '''!()-[]{};:'\"\\,<>./?@#$%^&*_~'''\n",
    "\n",
    "s = input(\"Enter a string: \")\n",
    "\n",
    "for j in s:\n",
    "    if j in punc:\n",
    "        s = s.replace(j,'')\n",
    "\n",
    "print(\"The entered string with punction is : \",s)\n",
    "\n"
   ]
  },
  {
   "cell_type": "code",
   "execution_count": null,
   "metadata": {},
   "outputs": [],
   "source": []
  }
 ],
 "metadata": {
  "kernelspec": {
   "display_name": "Python 3",
   "language": "python",
   "name": "python3"
  },
  "language_info": {
   "codemirror_mode": {
    "name": "ipython",
    "version": 3
   },
   "file_extension": ".py",
   "mimetype": "text/x-python",
   "name": "python",
   "nbconvert_exporter": "python",
   "pygments_lexer": "ipython3",
   "version": "3.8.5"
  }
 },
 "nbformat": 4,
 "nbformat_minor": 4
}
