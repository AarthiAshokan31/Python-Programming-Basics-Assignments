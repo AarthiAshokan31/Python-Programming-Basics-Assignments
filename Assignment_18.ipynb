{
 "cells": [
  {
   "cell_type": "code",
   "execution_count": 2,
   "metadata": {},
   "outputs": [
    {
     "data": {
      "text/plain": [
       "[1, 0, 15]"
      ]
     },
     "execution_count": 2,
     "metadata": {},
     "output_type": "execute_result"
    }
   ],
   "source": [
    "## Question1 Create a function that takes a list of non-negative integers and strings and return a new list\n",
    "# without the strings.\n",
    "\n",
    "def filter_list(a):\n",
    "    l=[]\n",
    "    for i in a:\n",
    "        if type(i)== int:\n",
    "            l.append(i)\n",
    "            \n",
    "    return l\n",
    "\n",
    "filter_list([1,2,'a','b'])\n",
    "filter_list([1, 'a','b', 0, 15])"
   ]
  },
  {
   "cell_type": "code",
   "execution_count": 5,
   "metadata": {},
   "outputs": [
    {
     "data": {
      "text/plain": [
       "'DLROw OLLEh'"
      ]
     },
     "execution_count": 5,
     "metadata": {},
     "output_type": "execute_result"
    }
   ],
   "source": [
    "## Question 2 The &quot;Reverser&quot; takes a string as input and returns that string in reverse order, with the\n",
    "# opposite case.\n",
    "\n",
    "def reverse(a):\n",
    "    a = a[::-1]\n",
    "    return a.swapcase()\n",
    "\n",
    "reverse(\"Hello World\")"
   ]
  },
  {
   "cell_type": "code",
   "execution_count": 14,
   "metadata": {},
   "outputs": [
    {
     "data": {
      "text/plain": [
       "('First', 1, ' Middle', [2, 3, 4, 5], ' Last', 6)"
      ]
     },
     "execution_count": 14,
     "metadata": {},
     "output_type": "execute_result"
    }
   ],
   "source": [
    "## Question 3\n",
    "\n",
    "def unpack_list(l):\n",
    "    first = l[0]\n",
    "    last = l[-1]\n",
    "    middle = l[1:-1]\n",
    "    return \"First\",first,\" Middle\",middle,\" Last\",last\n",
    "\n",
    "unpack_list([1,2,3,4,5,6])"
   ]
  },
  {
   "cell_type": "code",
   "execution_count": null,
   "metadata": {},
   "outputs": [],
   "source": [
    "# Question4. Write a function that calculates the factorial of a number recursively.\n",
    "\n",
    "def factorial(x):\n",
    "    if x ==1 or x==0:\n",
    "        return 1\n",
    "    else:\n",
    "        return x*factorial(x-1)\n",
    "    \n",
    "factorial(5)"
   ]
  },
  {
   "cell_type": "code",
   "execution_count": 13,
   "metadata": {},
   "outputs": [
    {
     "data": {
      "text/plain": [
       "['b', 'a', 'a', 'a']"
      ]
     },
     "execution_count": 13,
     "metadata": {},
     "output_type": "execute_result"
    }
   ],
   "source": [
    "# Question 5 Write a function that moves all elements of one type to the end of the list.\n",
    "\n",
    "def move_to_end(a,b):\n",
    "    for i in a:\n",
    "        if i==b:\n",
    "            #temp = i\n",
    "            x=a.index(i)\n",
    "            a.pop(x)\n",
    "            a.append(i)\n",
    "            \n",
    "    return a\n",
    "\n",
    "move_to_end([1, 3, 2, 4, 4, 1], 1)\n",
    "move_to_end([\"a\",'a','a','b'],'a')"
   ]
  },
  {
   "cell_type": "code",
   "execution_count": null,
   "metadata": {},
   "outputs": [],
   "source": []
  }
 ],
 "metadata": {
  "kernelspec": {
   "display_name": "Python 3",
   "language": "python",
   "name": "python3"
  },
  "language_info": {
   "codemirror_mode": {
    "name": "ipython",
    "version": 3
   },
   "file_extension": ".py",
   "mimetype": "text/x-python",
   "name": "python",
   "nbconvert_exporter": "python",
   "pygments_lexer": "ipython3",
   "version": "3.8.5"
  }
 },
 "nbformat": 4,
 "nbformat_minor": 4
}
