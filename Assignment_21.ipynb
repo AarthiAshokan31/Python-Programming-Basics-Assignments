{
 "cells": [
  {
   "cell_type": "code",
   "execution_count": 5,
   "metadata": {},
   "outputs": [
    {
     "name": "stdout",
     "output_type": "stream",
     "text": [
      "No list has been selected\n"
     ]
    },
    {
     "data": {
      "text/plain": [
       "[]"
      ]
     },
     "execution_count": 5,
     "metadata": {},
     "output_type": "execute_result"
    }
   ],
   "source": [
    "# Question 1\n",
    "\"\"\"Write a function that takes a list and a number as arguments. Add the number to the end of\n",
    "the list, then remove the first element of the list. The function should then return the updated\n",
    "list.\"\"\"\n",
    "\n",
    "def next_in_line(a,b):\n",
    "    if len(a)==0:\n",
    "        print(\"No list has been selected\")\n",
    "    else:\n",
    "        a.remove(a[0])\n",
    "        a.append(b)\n",
    "    return a\n",
    "\n",
    "next_in_line([1, 10, 20, 42 ], 6)\n",
    "next_in_line([], 6)"
   ]
  },
  {
   "cell_type": "code",
   "execution_count": 8,
   "metadata": {},
   "outputs": [
    {
     "data": {
      "text/plain": [
       "71700"
      ]
     },
     "execution_count": 8,
     "metadata": {},
     "output_type": "execute_result"
    }
   ],
   "source": [
    "# Question 2\n",
    "\"\"\"Create the function that takes a list of dictionaries and returns the sum of people&#39;s budgets.\"\"\"\n",
    "\n",
    "def get_budgets(listOfDict):\n",
    "    s=0\n",
    "    for i in listOfDict:\n",
    "        s = s + i['budget']\n",
    "    return s\n",
    "\n",
    "get_budgets([{\"name\": \"John\", \"age\": 21, \"budget\": 29000},\n",
    "            {\"name\": \"Steve\", \"age\": 32, \"budget\": 40000},\n",
    "            {\"name\": \"Martin\", \"age\": 16, \"budget\": 2700},])"
   ]
  },
  {
   "cell_type": "code",
   "execution_count": 15,
   "metadata": {},
   "outputs": [
    {
     "data": {
      "text/plain": [
       "'acehkr'"
      ]
     },
     "execution_count": 15,
     "metadata": {},
     "output_type": "execute_result"
    }
   ],
   "source": [
    "# Question 3\n",
    "\"\"\"Create a function that takes a string and returns a string with its letters in alphabetical order.\"\"\"\n",
    "\n",
    "def alphabet_soup(a):\n",
    "    b = sorted(a)\n",
    "    res = \"\".join(b)\n",
    "    return res\n",
    "\n",
    "alphabet_soup(\"hacker\")"
   ]
  },
  {
   "cell_type": "code",
   "execution_count": 18,
   "metadata": {},
   "outputs": [
    {
     "data": {
      "text/plain": [
       "2007316.26"
      ]
     },
     "execution_count": 18,
     "metadata": {},
     "output_type": "execute_result"
    }
   ],
   "source": [
    "# Question 4\n",
    "\n",
    "\"\"\"Create a function that accepts the principal p, the term in years t, the interest rate r, and the\n",
    "number of compounding periods per year n. The function returns the value at the end of term\n",
    "rounded to the nearest cent.\"\"\"\n",
    "\n",
    "def compound_interest(principal, term, int_rate, periods_per_year):\n",
    "    amount = principal * ((1+(int_rate/periods_per_year))**(periods_per_year*term))\n",
    "    return round(amount,2)\n",
    "\n",
    "compound_interest(10000, 10, 0.06, 12)\n",
    "compound_interest(100000, 20, 0.15, 365)"
   ]
  },
  {
   "cell_type": "code",
   "execution_count": 16,
   "metadata": {},
   "outputs": [
    {
     "data": {
      "text/plain": [
       "[10, 56, 20, 3]"
      ]
     },
     "execution_count": 16,
     "metadata": {},
     "output_type": "execute_result"
    }
   ],
   "source": [
    "# Question 5\n",
    "def return_only_integer(a):\n",
    "    l=[]\n",
    "    for i in a:\n",
    "        if type(i)== int:\n",
    "            l.append(i)\n",
    "            \n",
    "    return l\n",
    "\n",
    "return_only_integer([10, \"121\", 56, 20, \"car\", 3, \"lion\"])"
   ]
  },
  {
   "cell_type": "code",
   "execution_count": null,
   "metadata": {},
   "outputs": [],
   "source": []
  }
 ],
 "metadata": {
  "kernelspec": {
   "display_name": "Python 3",
   "language": "python",
   "name": "python3"
  },
  "language_info": {
   "codemirror_mode": {
    "name": "ipython",
    "version": 3
   },
   "file_extension": ".py",
   "mimetype": "text/x-python",
   "name": "python",
   "nbconvert_exporter": "python",
   "pygments_lexer": "ipython3",
   "version": "3.8.5"
  }
 },
 "nbformat": 4,
 "nbformat_minor": 4
}
