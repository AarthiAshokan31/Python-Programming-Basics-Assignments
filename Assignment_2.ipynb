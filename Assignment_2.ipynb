{
 "cells": [
  {
   "cell_type": "code",
   "execution_count": 2,
   "metadata": {},
   "outputs": [
    {
     "name": "stdout",
     "output_type": "stream",
     "text": [
      "Enter kilometers100\n",
      "Mile:62.5\n"
     ]
    }
   ],
   "source": [
    "# Question 1\n",
    "\n",
    "x = float(input(\"Enter kilometers\"))\n",
    "miles = x/1.6\n",
    "print(\"Mile:{}\".format(miles))"
   ]
  },
  {
   "cell_type": "code",
   "execution_count": 3,
   "metadata": {},
   "outputs": [
    {
     "name": "stdout",
     "output_type": "stream",
     "text": [
      "Enter temperature in Celcius64\n",
      "Temperature in Farenheit:147.2\n"
     ]
    }
   ],
   "source": [
    "# Question 2\n",
    "\n",
    "celcius = float(input(\"Enter temperature in Celcius\"))\n",
    "farenheit = 1.8*celcius + 32\n",
    "print(\"Temperature in Farenheit:{}\".format(farenheit))"
   ]
  },
  {
   "cell_type": "code",
   "execution_count": 4,
   "metadata": {},
   "outputs": [
    {
     "name": "stdout",
     "output_type": "stream",
     "text": [
      "Enter year: 2021\n",
      "Enter month: 1\n",
      "    January 2021\n",
      "Mo Tu We Th Fr Sa Su\n",
      "             1  2  3\n",
      " 4  5  6  7  8  9 10\n",
      "11 12 13 14 15 16 17\n",
      "18 19 20 21 22 23 24\n",
      "25 26 27 28 29 30 31\n",
      "\n"
     ]
    }
   ],
   "source": [
    "# Question 3\n",
    "\n",
    "import calendar\n",
    "\n",
    "year = int(input(\"Enter year: \"))\n",
    "month = int(input(\"Enter month: \"))\n",
    "\n",
    "print(calendar.month(year, month))"
   ]
  },
  {
   "cell_type": "code",
   "execution_count": 12,
   "metadata": {},
   "outputs": [
    {
     "name": "stdout",
     "output_type": "stream",
     "text": [
      "Roots are: (0.2898979485566356+0j),(-0.6898979485566356+0j)\n"
     ]
    }
   ],
   "source": [
    "#Question 4\n",
    "\n",
    "import cmath\n",
    "\n",
    "a=10\n",
    "b=4\n",
    "c=-2\n",
    "\n",
    "d = (b**2)-(4*a*c)\n",
    "x1 = ((-b) + cmath.sqrt((b**2)-(4*a*c)))/(2*a)\n",
    "x2 = ((-b) - cmath.sqrt((b**2)-(4*a*c)))/(2*a)\n",
    "print(\"Roots are: {},{}\".format(x1,x2))"
   ]
  },
  {
   "cell_type": "code",
   "execution_count": null,
   "metadata": {},
   "outputs": [],
   "source": []
  }
 ],
 "metadata": {
  "kernelspec": {
   "display_name": "Python 3",
   "language": "python",
   "name": "python3"
  },
  "language_info": {
   "codemirror_mode": {
    "name": "ipython",
    "version": 3
   },
   "file_extension": ".py",
   "mimetype": "text/x-python",
   "name": "python",
   "nbconvert_exporter": "python",
   "pygments_lexer": "ipython3",
   "version": "3.8.5"
  }
 },
 "nbformat": 4,
 "nbformat_minor": 4
}
