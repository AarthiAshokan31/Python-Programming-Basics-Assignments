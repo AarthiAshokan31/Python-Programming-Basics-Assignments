{
 "cells": [
  {
   "cell_type": "code",
   "execution_count": 3,
   "metadata": {},
   "outputs": [
    {
     "name": "stdout",
     "output_type": "stream",
     "text": [
      "No number between 1 & 10 can be evenly divided by 20\n"
     ]
    },
    {
     "data": {
      "text/plain": [
       "18"
      ]
     },
     "execution_count": 3,
     "metadata": {},
     "output_type": "execute_result"
    }
   ],
   "source": [
    "##Question1. Create a function that takes three arguments a, b, c and returns the sum of the\n",
    "## numbers that are evenly divided by c from the range a, b inclusive.\n",
    "\n",
    "def evenly_divisible(a,b,c):\n",
    "    s=0\n",
    "    count=0\n",
    "    for i in range(a,b+1):\n",
    "        if i%c==0:\n",
    "            s = s+i\n",
    "            count +=1\n",
    "    if count>0:\n",
    "        return s\n",
    "    else:\n",
    "        print(\"No number between\",a,\"&\",b,\"can be evenly divided by\",c)\n",
    "\n",
    "evenly_divisible(1,10,20)\n",
    "evenly_divisible(1,10,3)"
   ]
  },
  {
   "cell_type": "code",
   "execution_count": 4,
   "metadata": {},
   "outputs": [
    {
     "name": "stdout",
     "output_type": "stream",
     "text": [
      "Enter an inequality expression: 3 < 7 <11\n"
     ]
    },
    {
     "data": {
      "text/plain": [
       "['3', '<', '7', '<11']"
      ]
     },
     "execution_count": 4,
     "metadata": {},
     "output_type": "execute_result"
    }
   ],
   "source": [
    "# Question2. Create a function that returns True if a given inequality expression is correct and\n",
    "# False otherwise.\n",
    "\n",
    "x = input(\"Enter an inequality expression with space after each charater: \")\n",
    "a = x.split(\" \")\n",
    "\n",
    "def func2(**args):\n",
    "    if args[0]"
   ]
  },
  {
   "cell_type": "code",
   "execution_count": 19,
   "metadata": {},
   "outputs": [
    {
     "data": {
      "text/plain": [
       "'sh*k*sp**r*'"
      ]
     },
     "execution_count": 19,
     "metadata": {},
     "output_type": "execute_result"
    }
   ],
   "source": [
    "## Question3. Create a function that replaces all the vowels in a string with a specified character.\n",
    "\n",
    "def replace_vowels(s,x):\n",
    "    p = 'aeiouAEIOU'\n",
    "    for i in s:\n",
    "        \n",
    "        if i in p:\n",
    "            \n",
    "            s = s.replace(i,x)\n",
    "    return s\n",
    "\n",
    "replace_vowels(\"the aardvark\", \"#\")\n",
    "replace_vowels(\"shakespeare\",\"*\")"
   ]
  },
  {
   "cell_type": "code",
   "execution_count": 21,
   "metadata": {},
   "outputs": [
    {
     "data": {
      "text/plain": [
       "120"
      ]
     },
     "execution_count": 21,
     "metadata": {},
     "output_type": "execute_result"
    }
   ],
   "source": [
    "# Question4. Write a function that calculates the factorial of a number recursively.\n",
    "\n",
    "def factorial(x):\n",
    "    if x ==1 or x==0:\n",
    "        return 1\n",
    "    else:\n",
    "        return x*factorial(x-1)\n",
    "    \n",
    "factorial(5)"
   ]
  },
  {
   "cell_type": "code",
   "execution_count": 27,
   "metadata": {},
   "outputs": [
    {
     "name": "stdout",
     "output_type": "stream",
     "text": [
      "s s\n",
      "t t\n",
      "r r\n",
      "o u\n",
      "n n\n",
      "g g\n"
     ]
    },
    {
     "data": {
      "text/plain": [
       "1"
      ]
     },
     "execution_count": 27,
     "metadata": {},
     "output_type": "execute_result"
    }
   ],
   "source": [
    "# Question5 Create a function that computes the hamming distance between two strings.\n",
    "\n",
    "def hamming_distance(a,b):\n",
    "    count = 0\n",
    "    for i in range(len(a)):\n",
    "        #print(a[i],b[i])\n",
    "        if a[i] == b[i]:\n",
    "            pass\n",
    "        else:\n",
    "            count = count+1\n",
    "    return count\n",
    "\n",
    "hamming_distance(\"strong\",\"strung\")"
   ]
  },
  {
   "cell_type": "code",
   "execution_count": null,
   "metadata": {},
   "outputs": [],
   "source": []
  }
 ],
 "metadata": {
  "kernelspec": {
   "display_name": "Python 3",
   "language": "python",
   "name": "python3"
  },
  "language_info": {
   "codemirror_mode": {
    "name": "ipython",
    "version": 3
   },
   "file_extension": ".py",
   "mimetype": "text/x-python",
   "name": "python",
   "nbconvert_exporter": "python",
   "pygments_lexer": "ipython3",
   "version": "3.8.5"
  }
 },
 "nbformat": 4,
 "nbformat_minor": 4
}
