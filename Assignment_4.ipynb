{
 "cells": [
  {
   "cell_type": "code",
   "execution_count": 2,
   "metadata": {},
   "outputs": [
    {
     "name": "stdout",
     "output_type": "stream",
     "text": [
      "Enter the number: 6\n",
      "Factorial of the number is: 120\n"
     ]
    }
   ],
   "source": [
    "# Question 1\n",
    "\n",
    "x = int(input(\"Enter the number: \"))\n",
    "fact=1\n",
    "for i in range(1,x):\n",
    "    fact = fact*i\n",
    "\n",
    "print(\"Factorial of the number is: {}\".format(fact))\n",
    "    "
   ]
  },
  {
   "cell_type": "code",
   "execution_count": 4,
   "metadata": {},
   "outputs": [
    {
     "name": "stdout",
     "output_type": "stream",
     "text": [
      "Enter the number: 6\n",
      "6   x   1   =   6\n",
      "6   x   2   =   12\n",
      "6   x   3   =   18\n",
      "6   x   4   =   24\n",
      "6   x   5   =   30\n",
      "6   x   6   =   36\n",
      "6   x   7   =   42\n",
      "6   x   8   =   48\n",
      "6   x   9   =   54\n",
      "6   x   10   =   60\n"
     ]
    }
   ],
   "source": [
    "# Question 2\n",
    "\n",
    "x = int(input(\"Enter the number: \"))\n",
    "\n",
    "for i in range(1,11):\n",
    "    print(x,\" \",'x',\" \",i,\" \",'=',\" \",x*i)"
   ]
  },
  {
   "cell_type": "code",
   "execution_count": 5,
   "metadata": {},
   "outputs": [
    {
     "name": "stdout",
     "output_type": "stream",
     "text": [
      "1\n",
      "1\n",
      "2\n",
      "3\n",
      "5\n",
      "8\n",
      "13\n",
      "21\n",
      "34\n",
      "55\n",
      "89\n",
      "144\n"
     ]
    }
   ],
   "source": [
    "# Question 3\n",
    "\n",
    "a=1\n",
    "b=1\n",
    "\n",
    "print(a)\n",
    "print(b)\n",
    "for i in range(1,11):\n",
    "    print(a+b)\n",
    "    temp=a\n",
    "    a=b\n",
    "    b=temp+b"
   ]
  },
  {
   "cell_type": "code",
   "execution_count": 16,
   "metadata": {},
   "outputs": [
    {
     "name": "stdout",
     "output_type": "stream",
     "text": [
      "Enter the number: 153\n",
      "1 1\n",
      "5 126\n",
      "3 153\n",
      "Number is an Armstrong Number\n"
     ]
    }
   ],
   "source": [
    "# Question 4\n",
    "\n",
    "x = input(\"Enter the number: \")\n",
    "\n",
    "len(x)\n",
    "s=0\n",
    "for i in x:\n",
    "    \n",
    "    s= s+ (int(i)**3)\n",
    "    print(i,s)\n",
    "\n",
    "if int(x) ==s :\n",
    "    print(\"Number is an Armstrong Number\")\n",
    "else:\n",
    "    print(\"Number is not an Armstrong Number\")"
   ]
  },
  {
   "cell_type": "code",
   "execution_count": 18,
   "metadata": {},
   "outputs": [
    {
     "name": "stdout",
     "output_type": "stream",
     "text": [
      "153\n",
      "370\n",
      "371\n",
      "407\n"
     ]
    }
   ],
   "source": [
    "# Question5\n",
    "\n",
    "for i in range(10,3000):\n",
    "    ss = 0\n",
    "    temp= i\n",
    "    while temp>0:\n",
    "        n = temp%10\n",
    "        ss = ss + (n**3)\n",
    "        temp = temp//10\n",
    "    if i == ss:\n",
    "        print(i)"
   ]
  },
  {
   "cell_type": "code",
   "execution_count": 19,
   "metadata": {},
   "outputs": [
    {
     "name": "stdout",
     "output_type": "stream",
     "text": [
      "Till which natural number is the sum needed 100\n",
      "Sum is: 5050\n"
     ]
    }
   ],
   "source": [
    "# Question 6\n",
    "\n",
    "x= int(input(\"Till which natural number is the sum needed \"))\n",
    "\n",
    "s1=0 \n",
    "for i in range(0,x+1):\n",
    "    s1= s1+i\n",
    "print(\"Sum is: {}\".format(s1))"
   ]
  },
  {
   "cell_type": "code",
   "execution_count": null,
   "metadata": {},
   "outputs": [],
   "source": []
  }
 ],
 "metadata": {
  "kernelspec": {
   "display_name": "Python 3",
   "language": "python",
   "name": "python3"
  },
  "language_info": {
   "codemirror_mode": {
    "name": "ipython",
    "version": 3
   },
   "file_extension": ".py",
   "mimetype": "text/x-python",
   "name": "python",
   "nbconvert_exporter": "python",
   "pygments_lexer": "ipython3",
   "version": "3.8.5"
  }
 },
 "nbformat": 4,
 "nbformat_minor": 4
}
