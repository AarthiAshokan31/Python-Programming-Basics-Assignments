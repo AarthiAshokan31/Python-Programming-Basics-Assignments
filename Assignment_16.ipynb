{
 "cells": [
  {
   "cell_type": "code",
   "execution_count": 6,
   "metadata": {},
   "outputs": [
    {
     "name": "stdout",
     "output_type": "stream",
     "text": [
      "Enter a word all in lower case and atleast two characters long: incredible\n",
      "Stuttered word is:  in... in... incredible?\n"
     ]
    }
   ],
   "source": [
    "##Question 1 - Write a function that stutters a word as if someone is struggling to read it. The\n",
    "# first two letters are repeated twice with an ellipsis ... and space after each, and then the\n",
    "# word is pronounced with a question mark ?.\n",
    "\n",
    "def stutter(x):\n",
    "    res = x[:2]+'... '+x[:2]+'... '+x+'?'\n",
    "    return res\n",
    "\n",
    "s = input(\"Enter a word all in lower case and atleast two characters long: \")\n",
    "print(\"Stuttered word is: \",stutter(s))"
   ]
  },
  {
   "cell_type": "code",
   "execution_count": 10,
   "metadata": {},
   "outputs": [
    {
     "name": "stdout",
     "output_type": "stream",
     "text": [
      "Enter angle in radians: 2\n",
      "Angle in degrees:  114.6\n"
     ]
    }
   ],
   "source": [
    "## Question 2.Create a function that takes an angle in radians and returns the corresponding\n",
    "# angle in degrees rounded to one decimal place.\n",
    "\n",
    "import math\n",
    "def radian_to_degrees(x):\n",
    "    res = (x * 180)/math.pi\n",
    "    return round(res,1)\n",
    " \n",
    "angle = float(input(\"Enter angle in radians: \"))\n",
    "print(\"Angle in degrees: \",radian_to_degrees(angle))"
   ]
  },
  {
   "cell_type": "code",
   "execution_count": 14,
   "metadata": {},
   "outputs": [
    {
     "data": {
      "text/plain": [
       "True"
      ]
     },
     "execution_count": 14,
     "metadata": {},
     "output_type": "execute_result"
    }
   ],
   "source": [
    "## Question 3 - If number is Curzon number or not\n",
    "\n",
    "def curzon(n):\n",
    "    y = (2**n)+1\n",
    "    z = (2*n)+1\n",
    "    if y%z == 0:\n",
    "        return True\n",
    "    else:\n",
    "        return False\n",
    "    \n",
    "curzon(14)"
   ]
  },
  {
   "cell_type": "code",
   "execution_count": 16,
   "metadata": {},
   "outputs": [
    {
     "name": "stdout",
     "output_type": "stream",
     "text": [
      "Enter side length of a hexagon: 2\n",
      "Area of hexagon :  10.4\n"
     ]
    }
   ],
   "source": [
    "## Question 4.Given the side length x find the area of a hexagon.\n",
    "\n",
    "def area_hexagon(x):\n",
    "    area = ((x**2)*3*math.sqrt(3))/2\n",
    "    return round(area,1)\n",
    "\n",
    "s = float(input(\"Enter side length of a hexagon: \"))\n",
    "print(\"Area of hexagon : \", area_hexagon(s))"
   ]
  },
  {
   "cell_type": "code",
   "execution_count": 24,
   "metadata": {},
   "outputs": [
    {
     "name": "stdout",
     "output_type": "stream",
     "text": [
      "Enter a number: 10\n",
      "Binary version of given number is:  1010\n"
     ]
    }
   ],
   "source": [
    "## Question 5: Convert decimal string to binary baase 2 numbers\n",
    "\n",
    "def convert_decimal_binary(x):\n",
    "    b = bin(x)\n",
    "    return b[2:]\n",
    "\n",
    "x= int(input(\"Enter a number: \"))\n",
    "print(\"Binary version of given number is: \", convert_decimal_binary(x))"
   ]
  },
  {
   "cell_type": "code",
   "execution_count": null,
   "metadata": {},
   "outputs": [],
   "source": []
  }
 ],
 "metadata": {
  "kernelspec": {
   "display_name": "Python 3",
   "language": "python",
   "name": "python3"
  },
  "language_info": {
   "codemirror_mode": {
    "name": "ipython",
    "version": 3
   },
   "file_extension": ".py",
   "mimetype": "text/x-python",
   "name": "python",
   "nbconvert_exporter": "python",
   "pygments_lexer": "ipython3",
   "version": "3.8.5"
  }
 },
 "nbformat": 4,
 "nbformat_minor": 4
}
