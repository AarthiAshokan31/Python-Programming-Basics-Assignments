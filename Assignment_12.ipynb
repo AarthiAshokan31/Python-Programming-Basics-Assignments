{
 "cells": [
  {
   "cell_type": "code",
   "execution_count": 42,
   "metadata": {},
   "outputs": [
    {
     "name": "stdout",
     "output_type": "stream",
     "text": [
      "[222, 222, 123, 'HJSD', 54, 90, 123, 'asdd']\n",
      "The Unique items are:  {'HJSD', 54, 'asdd', 90, 123, 222}\n"
     ]
    }
   ],
   "source": [
    "## Question 1 - Extracting unique values from dictionary\n",
    "\n",
    "d1 = {'a': 222, 'b': [222,123,'HJSD'], 'c': (54,90,123),'d':'asdd'}\n",
    "l1=[]\n",
    "\n",
    "for i in d1.values():\n",
    "    if type(i)==int or type(i)==str or type(i)==bool:\n",
    "        l1.append(i)\n",
    "    else:\n",
    "        for j in range(len(i)):\n",
    "            l1.append(i[j])\n",
    "            \n",
    "print(l1)\n",
    "print(\"The Unique items are: \",set(l1))"
   ]
  },
  {
   "cell_type": "code",
   "execution_count": 43,
   "metadata": {},
   "outputs": [
    {
     "name": "stdout",
     "output_type": "stream",
     "text": [
      "Dictionary items contains elements which does not support addition\n",
      "Sum of all items:  5\n"
     ]
    }
   ],
   "source": [
    "## Question 2 - sum of all items in a dictionary\n",
    "d2 = {'a': 2, 'b': 3, 'c':'sdas'}\n",
    "sum2=0\n",
    "for i in d2.values():\n",
    "    if type(i) is not int:\n",
    "        print(\"Dictionary items contains elements which does not support addition\")\n",
    "    else:\n",
    "        sum2 += i\n",
    "print(\"Sum of all items: \", sum2)"
   ]
  },
  {
   "cell_type": "code",
   "execution_count": 39,
   "metadata": {},
   "outputs": [
    {
     "name": "stdout",
     "output_type": "stream",
     "text": [
      "Merged dictionary:  {32: 'sfdsfd', True: [132, 'df'], 'fsd': 132, 'kl': (123, 5)}\n"
     ]
    }
   ],
   "source": [
    "## Question 3 - merging two dictionaries\n",
    "\n",
    "d3 = {32:\"sfdsfd\", True:[132,\"df\"]}\n",
    "d4= {'fsd':132, \"kl\":(123,5)}\n",
    "x={**d3, **d4}\n",
    "print(\"Merged dictionary: \",x)"
   ]
  },
  {
   "cell_type": "code",
   "execution_count": 45,
   "metadata": {},
   "outputs": [
    {
     "ename": "TypeError",
     "evalue": "'dict' object is not callable",
     "output_type": "error",
     "traceback": [
      "\u001b[0;31m---------------------------------------------------------------------------\u001b[0m",
      "\u001b[0;31mTypeError\u001b[0m                                 Traceback (most recent call last)",
      "\u001b[0;32m<ipython-input-45-feb41be9c84a>\u001b[0m in \u001b[0;36m<module>\u001b[0;34m\u001b[0m\n\u001b[1;32m      4\u001b[0m \u001b[0my4\u001b[0m\u001b[0;34m=\u001b[0m\u001b[0;34m[\u001b[0m\u001b[0;34m\"star\"\u001b[0m\u001b[0;34m,\u001b[0m\u001b[0;34m'satelite'\u001b[0m\u001b[0;34m,\u001b[0m\u001b[0;34m'planet'\u001b[0m\u001b[0;34m]\u001b[0m\u001b[0;34m\u001b[0m\u001b[0;34m\u001b[0m\u001b[0m\n\u001b[1;32m      5\u001b[0m \u001b[0;34m\u001b[0m\u001b[0m\n\u001b[0;32m----> 6\u001b[0;31m \u001b[0mz4\u001b[0m \u001b[0;34m=\u001b[0m \u001b[0mdict\u001b[0m\u001b[0;34m(\u001b[0m\u001b[0mzip\u001b[0m\u001b[0;34m(\u001b[0m\u001b[0mx4\u001b[0m\u001b[0;34m,\u001b[0m\u001b[0my4\u001b[0m\u001b[0;34m)\u001b[0m\u001b[0;34m)\u001b[0m\u001b[0;34m\u001b[0m\u001b[0;34m\u001b[0m\u001b[0m\n\u001b[0m\u001b[1;32m      7\u001b[0m \u001b[0mprint\u001b[0m\u001b[0;34m(\u001b[0m\u001b[0mz4\u001b[0m\u001b[0;34m)\u001b[0m\u001b[0;34m\u001b[0m\u001b[0;34m\u001b[0m\u001b[0m\n",
      "\u001b[0;31mTypeError\u001b[0m: 'dict' object is not callable"
     ]
    }
   ],
   "source": [
    "## Qestion 4 - converting key value list into flat dictionary\n",
    "\n",
    "x4 = [\"sun\",'moon',\"earth\"]\n",
    "y4=[\"star\",'satelite','planet']\n",
    "\n",
    "z4 = dict(zip(x4,y4))\n",
    "print(z4)"
   ]
  },
  {
   "cell_type": "code",
   "execution_count": 50,
   "metadata": {},
   "outputs": [
    {
     "data": {
      "text/plain": [
       "OrderedDict([('earth', 'planet'), ('sun', 'star'), ('moon', 'satelitte')])"
      ]
     },
     "execution_count": 50,
     "metadata": {},
     "output_type": "execute_result"
    }
   ],
   "source": [
    "## Question5- Insertion at the beginning in Ordered Dict\n",
    "\n",
    "from collections import OrderedDict\n",
    "\n",
    "\n",
    "OrdDict = OrderedDict([('sun','star'),('moon','satelitte')])\n",
    "\n",
    "OrdDict.update({'earth':'planet'})\n",
    "OrdDict.move_to_end('earth', last=False)\n",
    "OrdDict"
   ]
  },
  {
   "cell_type": "code",
   "execution_count": null,
   "metadata": {},
   "outputs": [],
   "source": [
    "## Question 6 - "
   ]
  },
  {
   "cell_type": "code",
   "execution_count": 51,
   "metadata": {},
   "outputs": [
    {
     "name": "stdout",
     "output_type": "stream",
     "text": [
      "(1, 78) (2, 23) (3, 'aad') (5, 'daa') "
     ]
    }
   ],
   "source": [
    "## Question 7 - Sorting dictionary values by key\n",
    "\n",
    "d7 = { 3:'aad', 2:23, 5:'daa', 1:78}\n",
    "\n",
    "for i in sorted(d7.keys()):\n",
    "    print((i,d7[i]),end=\" \")"
   ]
  },
  {
   "cell_type": "code",
   "execution_count": null,
   "metadata": {},
   "outputs": [],
   "source": []
  }
 ],
 "metadata": {
  "kernelspec": {
   "display_name": "Python 3",
   "language": "python",
   "name": "python3"
  },
  "language_info": {
   "codemirror_mode": {
    "name": "ipython",
    "version": 3
   },
   "file_extension": ".py",
   "mimetype": "text/x-python",
   "name": "python",
   "nbconvert_exporter": "python",
   "pygments_lexer": "ipython3",
   "version": "3.8.5"
  }
 },
 "nbformat": 4,
 "nbformat_minor": 4
}
