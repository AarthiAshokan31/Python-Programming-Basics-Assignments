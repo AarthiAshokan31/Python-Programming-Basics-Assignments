{
 "cells": [
  {
   "cell_type": "code",
   "execution_count": 9,
   "metadata": {},
   "outputs": [
    {
     "name": "stdout",
     "output_type": "stream",
     "text": [
      "Enter the number of terms for the fibonocci series: 6\n",
      "The fibonocci series is: \n",
      "0\n",
      "1\n",
      "1\n",
      "2\n",
      "3\n",
      "5\n"
     ]
    }
   ],
   "source": [
    "### Fibonocci recursion ##\n",
    "\n",
    "def fibo_recur(val):\n",
    "    if val<=1:\n",
    "        return val\n",
    "    else:\n",
    "        x=0\n",
    "        x= fibo_recur(val-1) + fibo_recur(val-2)\n",
    "        return x\n",
    "    \n",
    "terms = int(input(\"Enter the number of terms for the fibonocci series: \"))\n",
    "\n",
    "print(\"The fibonocci series is: \")\n",
    "for i in range(terms):\n",
    "    print(fibo_recur(i))"
   ]
  },
  {
   "cell_type": "code",
   "execution_count": 10,
   "metadata": {},
   "outputs": [
    {
     "name": "stdout",
     "output_type": "stream",
     "text": [
      "Enter the number whose factorial is needed: 5\n",
      "The factorial of the 5 is:  120\n"
     ]
    }
   ],
   "source": [
    "### Factorial by recursion ##\n",
    "\n",
    "def fact_recur(val):\n",
    "    if val==1:\n",
    "        return val\n",
    "    else:\n",
    "        return val*fact_recur(val-1)\n",
    "    \n",
    "n= int(input(\"Enter the number whose factorial is needed: \"))\n",
    "\n",
    "print(\"The factorial of the\",n, \"is: \",fact_recur(n))"
   ]
  },
  {
   "cell_type": "code",
   "execution_count": 1,
   "metadata": {},
   "outputs": [
    {
     "name": "stdout",
     "output_type": "stream",
     "text": [
      "Enter body weight in kg: 56\n",
      "Enter your height in m: 1.56\n",
      "Your body mass index BMI is: 23.011176857330703\n"
     ]
    }
   ],
   "source": [
    "## BMI ##\n",
    "\n",
    "weight = float(input(\"Enter body weight in kg: \"))\n",
    "height = float(input(\"Enter your height in m: \"))\n",
    "\n",
    "BMI = weight / (height*height)\n",
    "\n",
    "print(\"Your body mass index BMI is: {}\".format(BMI))"
   ]
  },
  {
   "cell_type": "code",
   "execution_count": 4,
   "metadata": {},
   "outputs": [
    {
     "name": "stdout",
     "output_type": "stream",
     "text": [
      "Enter the number: 4.5\n",
      "Natural logarithm of the number: 1.5040773967762742\n"
     ]
    }
   ],
   "source": [
    "## Python Program to calculate the natural logarithm of any number?\n",
    "\n",
    "import numpy as np\n",
    "num = float(input(\"Enter the number: \"))\n",
    "print(\"Natural logarithm of the number: {}\".format(np.log(num)))\n"
   ]
  },
  {
   "cell_type": "code",
   "execution_count": 6,
   "metadata": {},
   "outputs": [
    {
     "name": "stdout",
     "output_type": "stream",
     "text": [
      "Enter the series length: 25\n",
      "Sum of 25 natural numbers is 105625\n"
     ]
    }
   ],
   "source": [
    "## Cube sum of first n natural numbers\n",
    "\n",
    "n = int(input(\"Enter the series length: \"))\n",
    "s=0\n",
    "for i in range(1,n+1):\n",
    "        s = s+ (i**3)\n",
    "\n",
    "print(\"Sum of cube of\",n,\"natural numbers is\",s)"
   ]
  },
  {
   "cell_type": "code",
   "execution_count": null,
   "metadata": {},
   "outputs": [],
   "source": []
  }
 ],
 "metadata": {
  "kernelspec": {
   "display_name": "Python 3",
   "language": "python",
   "name": "python3"
  },
  "language_info": {
   "codemirror_mode": {
    "name": "ipython",
    "version": 3
   },
   "file_extension": ".py",
   "mimetype": "text/x-python",
   "name": "python",
   "nbconvert_exporter": "python",
   "pygments_lexer": "ipython3",
   "version": "3.8.5"
  }
 },
 "nbformat": 4,
 "nbformat_minor": 4
}
