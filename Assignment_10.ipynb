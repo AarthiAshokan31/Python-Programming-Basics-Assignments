{
 "cells": [
  {
   "cell_type": "code",
   "execution_count": 36,
   "metadata": {},
   "outputs": [],
   "source": [
    "\n",
    "\n",
    "l = [1,4,8,12,1]\n",
    "l1=[23,78,34,12,33,2,45,112,234]"
   ]
  },
  {
   "cell_type": "code",
   "execution_count": 37,
   "metadata": {},
   "outputs": [
    {
     "name": "stdout",
     "output_type": "stream",
     "text": [
      "Sum of elements in the given list:  26\n"
     ]
    }
   ],
   "source": [
    "## Question 1: sum of elements in a list\n",
    "\n",
    "def sum_of_list(l):\n",
    "    \n",
    "    return sum(l)\n",
    "\n",
    "print(\"Sum of elements in the given list: \",sum_of_list(l))"
   ]
  },
  {
   "cell_type": "code",
   "execution_count": 31,
   "metadata": {},
   "outputs": [
    {
     "name": "stdout",
     "output_type": "stream",
     "text": [
      "Multiplication of all elements in list:  5166\n"
     ]
    }
   ],
   "source": [
    "## Question2: Multiply all numbers in the list\n",
    "\n",
    "def mul_list(l):\n",
    "    mult=1\n",
    "    for i in range(len(l)):\n",
    "        mult = mult*l[i]\n",
    "    return mult\n",
    "\n",
    "print(\"Multiplication of all elements in list: \", mul_list(l))"
   ]
  },
  {
   "cell_type": "code",
   "execution_count": null,
   "metadata": {},
   "outputs": [],
   "source": [
    "## Question 3: Find the smallest number in a list\n",
    "\n",
    "\n",
    "print(\"Smallest number in list: \", min(l))"
   ]
  },
  {
   "cell_type": "code",
   "execution_count": 7,
   "metadata": {},
   "outputs": [
    {
     "name": "stdout",
     "output_type": "stream",
     "text": [
      "Largest number in list:  12\n"
     ]
    }
   ],
   "source": [
    "## Question 4: Find the largest number in a list\n",
    "\n",
    "\n",
    "print(\"Largest number in list: \", max(l))"
   ]
  },
  {
   "cell_type": "code",
   "execution_count": null,
   "metadata": {},
   "outputs": [],
   "source": [
    "## Question 5: Find the second largest number in a list\n",
    "\n",
    "def secd_largest(l):\n",
    "    l.sort()\n",
    "    x = l[len(l)-2]\n",
    "    return x"
   ]
  },
  {
   "cell_type": "code",
   "execution_count": 13,
   "metadata": {},
   "outputs": [
    {
     "name": "stdout",
     "output_type": "stream",
     "text": [
      "4  largest elements from a list are:  [234, 112, 78, 45]\n"
     ]
    }
   ],
   "source": [
    "## Question 6: Python program to find N largest elements from a list?\n",
    "\n",
    "n = 4\n",
    "\n",
    "def n_largest(l):\n",
    "    l6=[]\n",
    "    l.sort()\n",
    "    i=1\n",
    "    while i<=n:\n",
    "        l6.append(l[len(l)-i])\n",
    "        i +=1\n",
    "    return l6\n",
    "\n",
    "print(n,\" largest elements from a list are: \",n_largest(l1))"
   ]
  },
  {
   "cell_type": "code",
   "execution_count": 16,
   "metadata": {},
   "outputs": [
    {
     "name": "stdout",
     "output_type": "stream",
     "text": [
      "Even numbers of the given list [2, 12, 23, 33, 34, 45, 78, 112, 234] are [2, 12, 34, 78, 112, 234]\n"
     ]
    }
   ],
   "source": [
    "## Question 7: Even numbers in a list\n",
    "\n",
    "def even_number(l):\n",
    "    l7=[]\n",
    "    for i in l:\n",
    "        if i%2 == 0:\n",
    "            l7.append(i)\n",
    "    return l7       \n",
    "print(\"Even numbers of the given list\",l1, \"are\", even_number(l1))"
   ]
  },
  {
   "cell_type": "code",
   "execution_count": 20,
   "metadata": {},
   "outputs": [
    {
     "name": "stdout",
     "output_type": "stream",
     "text": [
      "Even numbers of the given list [2, 12, 23, 33, 34, 45, 78, 112, 234] are [23, 33, 45]\n"
     ]
    }
   ],
   "source": [
    "# Question 8: odd numbers in a list\n",
    "\n",
    "def odd_number(l):\n",
    "    l8=[]\n",
    "    for i in l:\n",
    "        if i%2 == 0:\n",
    "            pass\n",
    "        else:\n",
    "            l8.append(i)\n",
    "    return l8       \n",
    "print(\"Even numbers of the given list\",l1, \"are\", odd_number(l1))"
   ]
  },
  {
   "cell_type": "code",
   "execution_count": 26,
   "metadata": {},
   "outputs": [
    {
     "name": "stdout",
     "output_type": "stream",
     "text": [
      "List after removing empty list:  [12, 53, 'sdf', 23, [12, 4, 2]]\n"
     ]
    }
   ],
   "source": [
    "### Question 9: Remove empty list from list\n",
    "\n",
    "l9 = [12,53,'sdf',[],23,[12,4,2],[]]\n",
    "\n",
    "def remove_emptylist(l):\n",
    "    for i in l:\n",
    "        if type(i)==list:\n",
    "            if len(i)==0:\n",
    "                l.remove(i)\n",
    "    return(l)\n",
    "\n",
    "print(\"List after removing empty list: \",remove_emptylist(l9))"
   ]
  },
  {
   "cell_type": "code",
   "execution_count": 24,
   "metadata": {},
   "outputs": [
    {
     "data": {
      "text/plain": [
       "[123, 6, 7]"
      ]
     },
     "execution_count": 24,
     "metadata": {},
     "output_type": "execute_result"
    }
   ],
   "source": [
    "## Question 10: Cloning a list\n",
    "\n",
    "def cloning_list(l):\n",
    "    k= l.copy()\n",
    "    return k\n",
    "\n",
    "print(\"copy of the give list is: \", cloning_list(l))"
   ]
  },
  {
   "cell_type": "code",
   "execution_count": 29,
   "metadata": {},
   "outputs": [
    {
     "name": "stdout",
     "output_type": "stream",
     "text": [
      "the element ' sds 'has occured 2 times\n"
     ]
    }
   ],
   "source": [
    "## Question 11: Program to count occurences of an element in a list\n",
    "\n",
    "from collections import Counter\n",
    "\n",
    "l11 = ['sds',12,78,78,'sds','apple']\n",
    "\n",
    "x= 'sds'\n",
    "k = Counter(l11)\n",
    "\n",
    "print(\"the element '\",x,\"'has occured\",k[x],'times')"
   ]
  },
  {
   "cell_type": "code",
   "execution_count": null,
   "metadata": {},
   "outputs": [],
   "source": []
  }
 ],
 "metadata": {
  "kernelspec": {
   "display_name": "Python 3",
   "language": "python",
   "name": "python3"
  },
  "language_info": {
   "codemirror_mode": {
    "name": "ipython",
    "version": 3
   },
   "file_extension": ".py",
   "mimetype": "text/x-python",
   "name": "python",
   "nbconvert_exporter": "python",
   "pygments_lexer": "ipython3",
   "version": "3.8.5"
  }
 },
 "nbformat": 4,
 "nbformat_minor": 4
}
